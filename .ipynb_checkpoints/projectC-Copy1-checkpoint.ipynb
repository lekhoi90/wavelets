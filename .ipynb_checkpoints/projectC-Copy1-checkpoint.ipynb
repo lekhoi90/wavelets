{
 "cells": [
  {
   "cell_type": "markdown",
   "metadata": {},
   "source": [
    "# Project C - Wavelets"
   ]
  },
  {
   "cell_type": "code",
   "execution_count": 2,
   "metadata": {},
   "outputs": [],
   "source": [
    "import numpy as np\n",
    "import numpy.fft as npf\n",
    "import matplotlib\n",
    "import matplotlib.pyplot as plt\n",
    "import time\n",
    "import imagetools.projectC as im"
   ]
  },
  {
   "cell_type": "markdown",
   "metadata": {},
   "source": [
    "# Part 1"
   ]
  },
  {
   "cell_type": "code",
   "execution_count": 12,
   "metadata": {},
   "outputs": [
    {
     "ename": "NameError",
     "evalue": "name 'self' is not defined",
     "output_type": "error",
     "traceback": [
      "\u001b[0;31m---------------------------------------------------------------------------\u001b[0m",
      "\u001b[0;31mNameError\u001b[0m                                 Traceback (most recent call last)",
      "\u001b[0;32m<ipython-input-12-d3e9ebc2dc2b>\u001b[0m in \u001b[0;36m<module>\u001b[0;34m\u001b[0m\n\u001b[0;32m----> 1\u001b[0;31m \u001b[0mnp\u001b[0m\u001b[0;34m.\u001b[0m\u001b[0mrandom\u001b[0m\u001b[0;34m.\u001b[0m\u001b[0mchoice\u001b[0m\u001b[0;34m(\u001b[0m\u001b[0mnp\u001b[0m\u001b[0;34m.\u001b[0m\u001b[0marray\u001b[0m\u001b[0;34m(\u001b[0m\u001b[0;34m[\u001b[0m\u001b[0;36m1\u001b[0m\u001b[0;34m,\u001b[0m\u001b[0;36m0\u001b[0m\u001b[0;34m]\u001b[0m\u001b[0;34m)\u001b[0m\u001b[0;34m,\u001b[0m \u001b[0msize\u001b[0m\u001b[0;34m=\u001b[0m\u001b[0;36m5\u001b[0m\u001b[0;34m,\u001b[0m \u001b[0mreplace\u001b[0m\u001b[0;34m=\u001b[0m\u001b[0;32mTrue\u001b[0m\u001b[0;34m,\u001b[0m \u001b[0mp\u001b[0m\u001b[0;34m=\u001b[0m\u001b[0;34m[\u001b[0m\u001b[0mself\u001b[0m\u001b[0;34m.\u001b[0m\u001b[0m_p\u001b[0m\u001b[0;34m,\u001b[0m\u001b[0;36m1\u001b[0m\u001b[0;34m-\u001b[0m\u001b[0mself\u001b[0m\u001b[0;34m.\u001b[0m\u001b[0m_p\u001b[0m\u001b[0;34m]\u001b[0m\u001b[0;34m)\u001b[0m\u001b[0;34m\u001b[0m\u001b[0;34m\u001b[0m\u001b[0m\n\u001b[0m",
      "\u001b[0;31mNameError\u001b[0m: name 'self' is not defined"
     ]
    }
   ],
   "source": [
    "np.random.choice(np.array([1,0]), size=5, replace=True, p=[self._p,1-self._p])"
   ]
  },
  {
   "cell_type": "code",
   "execution_count": 13,
   "metadata": {},
   "outputs": [
    {
     "ename": "NameError",
     "evalue": "name 'ishape' is not defined",
     "output_type": "error",
     "traceback": [
      "\u001b[0;31m---------------------------------------------------------------------------\u001b[0m",
      "\u001b[0;31mNameError\u001b[0m                                 Traceback (most recent call last)",
      "\u001b[0;32m<ipython-input-13-4b27144c03f0>\u001b[0m in \u001b[0;36m<module>\u001b[0;34m\u001b[0m\n\u001b[0;32m----> 1\u001b[0;31m \u001b[0mnonzero_entries\u001b[0m \u001b[0;34m=\u001b[0m \u001b[0mnp\u001b[0m\u001b[0;34m.\u001b[0m\u001b[0mrandom\u001b[0m\u001b[0;34m.\u001b[0m\u001b[0mchoice\u001b[0m\u001b[0;34m(\u001b[0m\u001b[0mnp\u001b[0m\u001b[0;34m.\u001b[0m\u001b[0marray\u001b[0m\u001b[0;34m(\u001b[0m\u001b[0;34m[\u001b[0m\u001b[0;36m0\u001b[0m\u001b[0;34m,\u001b[0m\u001b[0;36m1\u001b[0m\u001b[0;34m]\u001b[0m\u001b[0;34m)\u001b[0m\u001b[0;34m,\u001b[0m \u001b[0msize\u001b[0m\u001b[0;34m=\u001b[0m\u001b[0mishape\u001b[0m\u001b[0;34m[\u001b[0m\u001b[0;36m0\u001b[0m\u001b[0;34m]\u001b[0m\u001b[0;34m,\u001b[0m \u001b[0mp\u001b[0m\u001b[0;34m=\u001b[0m\u001b[0;34m[\u001b[0m\u001b[0mp\u001b[0m\u001b[0;34m,\u001b[0m\u001b[0;36m1\u001b[0m\u001b[0;34m-\u001b[0m\u001b[0mp\u001b[0m\u001b[0;34m]\u001b[0m\u001b[0;34m)\u001b[0m\u001b[0;34m\u001b[0m\u001b[0;34m\u001b[0m\u001b[0m\n\u001b[0m\u001b[1;32m      2\u001b[0m \u001b[0m_H_random_mask\u001b[0m \u001b[0;34m=\u001b[0m \u001b[0mnp\u001b[0m\u001b[0;34m.\u001b[0m\u001b[0mdiag\u001b[0m\u001b[0;34m(\u001b[0m\u001b[0mnonzero_entries\u001b[0m\u001b[0;34m)\u001b[0m\u001b[0;34m\u001b[0m\u001b[0;34m\u001b[0m\u001b[0m\n\u001b[1;32m      3\u001b[0m \u001b[0mx\u001b[0m \u001b[0;34m=\u001b[0m \u001b[0mnp\u001b[0m\u001b[0;34m.\u001b[0m\u001b[0mrandom\u001b[0m\u001b[0;34m.\u001b[0m\u001b[0mrand\u001b[0m\u001b[0;34m(\u001b[0m\u001b[0;36m5\u001b[0m\u001b[0;34m)\u001b[0m\u001b[0;34m\u001b[0m\u001b[0;34m\u001b[0m\u001b[0m\n\u001b[1;32m      4\u001b[0m \u001b[0mprint\u001b[0m\u001b[0;34m(\u001b[0m\u001b[0mx\u001b[0m\u001b[0;34m)\u001b[0m\u001b[0;34m\u001b[0m\u001b[0;34m\u001b[0m\u001b[0m\n\u001b[1;32m      5\u001b[0m \u001b[0mnp\u001b[0m\u001b[0;34m.\u001b[0m\u001b[0mmatmul\u001b[0m\u001b[0;34m(\u001b[0m\u001b[0mnp\u001b[0m\u001b[0;34m.\u001b[0m\u001b[0mdiag\u001b[0m\u001b[0;34m(\u001b[0m\u001b[0mnp\u001b[0m\u001b[0;34m.\u001b[0m\u001b[0marray\u001b[0m\u001b[0;34m(\u001b[0m\u001b[0;34m[\u001b[0m\u001b[0;36m0\u001b[0m\u001b[0;34m,\u001b[0m \u001b[0;36m0\u001b[0m\u001b[0;34m,\u001b[0m \u001b[0;36m0\u001b[0m\u001b[0;34m,\u001b[0m \u001b[0;36m0\u001b[0m\u001b[0;34m,\u001b[0m \u001b[0;36m1\u001b[0m\u001b[0;34m]\u001b[0m\u001b[0;34m)\u001b[0m\u001b[0;34m)\u001b[0m\u001b[0;34m,\u001b[0m\u001b[0mx\u001b[0m\u001b[0;34m)\u001b[0m\u001b[0;34m\u001b[0m\u001b[0;34m\u001b[0m\u001b[0m\n",
      "\u001b[0;31mNameError\u001b[0m: name 'ishape' is not defined"
     ]
    }
   ],
   "source": [
    "# (5,8,3)\n",
    "p = .5\n",
    "nonzero_entries = np.random.choice(np.array([0,1]), size=5, p=[p,1-p])\n",
    "\n",
    "_H_random_mask = np.diag(nonzero_entries)\n",
    "x = np.random.rand(5)\n",
    "print(x)\n",
    "np.matmul(np.diag(np.array([0, 0, 0, 0, 1])),x)"
   ]
  },
  {
   "cell_type": "code",
   "execution_count": 367,
   "metadata": {},
   "outputs": [
    {
     "ename": "ValueError",
     "evalue": "all the input arrays must have same number of dimensions",
     "output_type": "error",
     "traceback": [
      "\u001b[0;31m---------------------------------------------------------------------------\u001b[0m",
      "\u001b[0;31mValueError\u001b[0m                                Traceback (most recent call last)",
      "\u001b[0;32m<ipython-input-367-46eeda85c2ec>\u001b[0m in \u001b[0;36m<module>\u001b[0;34m\u001b[0m\n\u001b[1;32m     19\u001b[0m         \u001b[0;31m# second dimension,\u001b[0m\u001b[0;34m\u001b[0m\u001b[0;34m\u001b[0m\u001b[0;34m\u001b[0m\u001b[0m\n\u001b[1;32m     20\u001b[0m         \u001b[0m_H_random_mask\u001b[0m \u001b[0;34m=\u001b[0m \u001b[0m_H_random_mask\u001b[0m\u001b[0;34m[\u001b[0m\u001b[0;34m...\u001b[0m\u001b[0;34m,\u001b[0m \u001b[0mnp\u001b[0m\u001b[0;34m.\u001b[0m\u001b[0mnewaxis\u001b[0m\u001b[0;34m]\u001b[0m\u001b[0;34m\u001b[0m\u001b[0;34m\u001b[0m\u001b[0m\n\u001b[0;32m---> 21\u001b[0;31m         \u001b[0m_H_random_mask\u001b[0m \u001b[0;34m=\u001b[0m  \u001b[0mnp\u001b[0m\u001b[0;34m.\u001b[0m\u001b[0mconcatenate\u001b[0m\u001b[0;34m(\u001b[0m\u001b[0;34m(\u001b[0m\u001b[0m_H_random_mask\u001b[0m\u001b[0;34m,\u001b[0m \u001b[0mrand_diag\u001b[0m\u001b[0;34m(\u001b[0m\u001b[0mp\u001b[0m\u001b[0;34m)\u001b[0m\u001b[0;34m)\u001b[0m\u001b[0;34m,\u001b[0m \u001b[0maxis\u001b[0m\u001b[0;34m=\u001b[0m\u001b[0;36m0\u001b[0m\u001b[0;34m)\u001b[0m\u001b[0;34m\u001b[0m\u001b[0;34m\u001b[0m\u001b[0m\n\u001b[0m\u001b[1;32m     22\u001b[0m     \u001b[0;32melse\u001b[0m\u001b[0;34m:\u001b[0m\u001b[0;34m\u001b[0m\u001b[0;34m\u001b[0m\u001b[0m\n\u001b[1;32m     23\u001b[0m         \u001b[0m_H_random_mask\u001b[0m \u001b[0;34m=\u001b[0m  \u001b[0mnp\u001b[0m\u001b[0;34m.\u001b[0m\u001b[0mconcatenate\u001b[0m\u001b[0;34m(\u001b[0m\u001b[0;34m(\u001b[0m\u001b[0m_H_random_mask\u001b[0m\u001b[0;34m,\u001b[0m \u001b[0mrand_diag\u001b[0m\u001b[0;34m(\u001b[0m\u001b[0mp\u001b[0m\u001b[0;34m)\u001b[0m\u001b[0;34m)\u001b[0m\u001b[0;34m,\u001b[0m \u001b[0maxis\u001b[0m\u001b[0;34m=\u001b[0m\u001b[0;36m0\u001b[0m\u001b[0;34m)\u001b[0m\u001b[0;34m\u001b[0m\u001b[0;34m\u001b[0m\u001b[0m\n",
      "\u001b[0;31mValueError\u001b[0m: all the input arrays must have same number of dimensions"
     ]
    }
   ],
   "source": [
    "# (5,8,3)\n",
    "# set proportion of the pixels to 0, as described in https://piazza.com/class/jt1dcjigm6n2ke?cid=297\n",
    "p = .5\n",
    "\n",
    "oshape = x.shape\n",
    "\n",
    "def rand_diag(prob):\n",
    "    nonzero_entries = np.random.choice(np.array([0,1]), size=oshape[0], p=[prob,1-prob])\n",
    "    diagonal_random = np.diag(nonzero_entries)\n",
    "    _H_random_mask = rand_diag(p)\n",
    "    return diagonal_random\n",
    "\n",
    "_H_random_mask = np.zeros(oshape)\n",
    "\n",
    "for dim in range(len(oshape)):\n",
    "    if len(oshape) or isinstance(oshape,int):\n",
    "        # first dimension, build rand diag\n",
    "        _H_random_mask = rand_diag(p)\n",
    "        break\n",
    "    \n",
    "    if len(oshape)==2:\n",
    "        _H_random_mask[:,]\n",
    "    elif dim==1:\n",
    "        # second dimension,\n",
    "        _H_random_mask[:,:] = _H_random_mask[..., np.newaxis]\n",
    "        _H_random_mask =  np.concatenate((_H_random_mask, rand_diag(p)[...,np.newaxis]), axis=0)\n",
    "    else:\n",
    "        _H_random_mask =  np.concatenate((_H_random_mask, rand_diag(p)[...,np.newaxis]), axis=0)\n",
    "        \n",
    "_H_random_mask = _H_random_mask.T\n",
    "print(_H_random_mask)\n",
    "print(x.shape)\n",
    "print(_H_random_mask.shape)"
   ]
  },
  {
   "cell_type": "code",
   "execution_count": null,
   "metadata": {},
   "outputs": [],
   "source": [
    "if input_1d:\n",
    "            # random masking in the 1D case\n",
    "            nonzero_entries = np.random.choice(np.array([0,1]), size=oshape, p=[prob,1-prob])\n",
    "            diagonal_random = np.diag(nonzero_entries)\n",
    "            self._H_random_mask = rand_diag(p)\n",
    "        else:\n",
    "            # input is 3d, still need to test for 2D\n",
    "            self._H_random_mask = np.random.choice(np.array([0,1]), size=ishape[:2], p=[p,1-p]).T\n",
    "            \n",
    "        def rand_diag(prob):\n",
    "            nonzero_entries = np.random.choice(np.array([0,1]), size=oshape[0], p=[prob,1-prob])\n",
    "            diagonal_random = np.diag(nonzero_entries)\n",
    "            return diagonal_random\n",
    "\n",
    "        \n",
    "        final_dim = oshape[-1]\n",
    "        for dim in range(final_dim):\n",
    "            if dim==0:\n",
    "                self._H_random_mask = rand_diag(p)\n",
    "            elif dim==1:\n",
    "                self._H_random_mask = _H_random_mask[..., np.newaxis]\n",
    "                self._H_random_mask =  np.concatenate((_H_random_mask, rand_diag(p)[...,np.newaxis]), axis=2)\n",
    "            else:\n",
    "                self._H_random_mask =  np.concatenate((_H_random_mask, rand_diag(p)[...,np.newaxis]), axis=2)\n",
    "        if len(oshape > 1):\n",
    "            self._H_random_mask = self._H_random_mask.T"
   ]
  },
  {
   "cell_type": "code",
   "execution_count": 477,
   "metadata": {},
   "outputs": [
    {
     "name": "stdout",
     "output_type": "stream",
     "text": [
      "[[[0.05540044 0.61612798 0.77660456]\n",
      "  [0.72906018 0.69913066 0.61816245]\n",
      "  [0.23184483 0.90843878 0.31020286]\n",
      "  [0.98658995 0.27293091 0.06894247]\n",
      "  [0.28587837 0.49750166 0.876194  ]]\n",
      "\n",
      " [[0.79170379 0.03233543 0.90181322]\n",
      "  [0.67664679 0.46368    0.00677248]\n",
      "  [0.89008688 0.6453683  0.25723056]\n",
      "  [0.69421697 0.47249477 0.21871069]\n",
      "  [0.59612908 0.29620214 0.31730659]]\n",
      "\n",
      " [[0.9317071  0.73943046 0.37426362]\n",
      "  [0.63363746 0.53531525 0.10055848]\n",
      "  [0.62005495 0.8109993  0.47980345]\n",
      "  [0.55866083 0.66926256 0.72193101]\n",
      "  [0.92937667 0.42054774 0.98642323]]\n",
      "\n",
      " [[0.88682776 0.29117875 0.41951059]\n",
      "  [0.80323865 0.8635376  0.79562356]\n",
      "  [0.05347148 0.34429212 0.61473886]\n",
      "  [0.1888238  0.70403583 0.89279735]\n",
      "  [0.37211979 0.38679525 0.57108995]]\n",
      "\n",
      " [[0.73327502 0.83359269 0.06750419]\n",
      "  [0.27716352 0.36032233 0.95476889]\n",
      "  [0.41103312 0.85297736 0.00717567]\n",
      "  [0.29853304 0.01717533 0.96433599]\n",
      "  [0.47291538 0.96605294 0.33760376]]]\n",
      "[[[0.         0.         0.        ]\n",
      "  [0.         0.         0.        ]\n",
      "  [0.         0.         0.        ]\n",
      "  [0.98658995 0.         0.        ]\n",
      "  [0.         0.         0.        ]]\n",
      "\n",
      " [[0.         0.         0.        ]\n",
      "  [0.         0.46368    0.        ]\n",
      "  [0.89008688 0.         0.        ]\n",
      "  [0.         0.         0.        ]\n",
      "  [0.         0.         0.        ]]\n",
      "\n",
      " [[0.         0.         0.        ]\n",
      "  [0.         0.         0.        ]\n",
      "  [0.         0.8109993  0.        ]\n",
      "  [0.         0.         0.        ]\n",
      "  [0.         0.42054774 0.        ]]\n",
      "\n",
      " [[0.         0.         0.        ]\n",
      "  [0.         0.         0.        ]\n",
      "  [0.         0.         0.        ]\n",
      "  [0.         0.         0.        ]\n",
      "  [0.         0.         0.        ]]\n",
      "\n",
      " [[0.         0.         0.        ]\n",
      "  [0.         0.36032233 0.        ]\n",
      "  [0.         0.         0.        ]\n",
      "  [0.         0.         0.        ]\n",
      "  [0.         0.         0.        ]]]\n"
     ]
    }
   ],
   "source": [
    "# (5,8,3)\n",
    "# set proportion of the pixels to 0, as described in https://piazza.com/class/jt1dcjigm6n2ke?cid=297\n",
    "p = .9\n",
    "\n",
    "x = np.random.rand(5,5,3)\n",
    "\n",
    "ishape = x.shape\n",
    "\n",
    "_H_random_mask = np.random.choice(np.array([0,1]), size=ishape, p=[p,1-p])\n",
    "\n",
    "print(x)\n",
    "print(_H_random_mask*x)"
   ]
  },
  {
   "cell_type": "code",
   "execution_count": 472,
   "metadata": {},
   "outputs": [
    {
     "name": "stdout",
     "output_type": "stream",
     "text": [
      "[[[0.77972996 0.18152966 0.43967464]\n",
      "  [0.49438957 0.90739938 0.81743948]\n",
      "  [0.17728702 0.96555325 0.05756335]\n",
      "  [0.10183216 0.53977828 0.18919448]\n",
      "  [0.9834511  0.61755771 0.87305111]]\n",
      "\n",
      " [[0.62306059 0.6633699  0.36486083]\n",
      "  [0.88705909 0.7407432  0.81855896]\n",
      "  [0.67350407 0.67821365 0.51327586]\n",
      "  [0.11370571 0.64570909 0.91656686]\n",
      "  [0.62041617 0.70344787 0.3326518 ]]\n",
      "\n",
      " [[0.29935225 0.19250395 0.84445417]\n",
      "  [0.01547683 0.62209895 0.03053269]\n",
      "  [0.70545233 0.15772355 0.52952796]\n",
      "  [0.97760461 0.51789717 0.09844417]\n",
      "  [0.90985162 0.53807055 0.85521653]]\n",
      "\n",
      " [[0.39943751 0.85530627 0.22362583]\n",
      "  [0.96732176 0.61321578 0.96853988]\n",
      "  [0.42005585 0.62612011 0.2014741 ]\n",
      "  [0.73909545 0.43933817 0.45591049]\n",
      "  [0.161664   0.56432164 0.39860938]]\n",
      "\n",
      " [[0.20104173 0.30239045 0.33141183]\n",
      "  [0.75827276 0.7154608  0.47564833]\n",
      "  [0.71700357 0.89614679 0.22893033]\n",
      "  [0.48423965 0.37612438 0.35415592]\n",
      "  [0.4771141  0.8752527  0.19056261]]]\n"
     ]
    }
   ],
   "source": [
    "print(x)"
   ]
  },
  {
   "cell_type": "code",
   "execution_count": 396,
   "metadata": {},
   "outputs": [
    {
     "ename": "ValueError",
     "evalue": "matmul: Input operand 1 has a mismatch in its core dimension 0, with gufunc signature (n?,k),(k,m?)->(n?,m?) (size 4 is different from 3)",
     "output_type": "error",
     "traceback": [
      "\u001b[0;31m---------------------------------------------------------------------------\u001b[0m",
      "\u001b[0;31mValueError\u001b[0m                                Traceback (most recent call last)",
      "\u001b[0;32m<ipython-input-396-c27c27ff2897>\u001b[0m in \u001b[0;36m<module>\u001b[0;34m\u001b[0m\n\u001b[0;32m----> 1\u001b[0;31m \u001b[0mnp\u001b[0m\u001b[0;34m.\u001b[0m\u001b[0mmatmul\u001b[0m\u001b[0;34m(\u001b[0m\u001b[0m_H_random_mask\u001b[0m\u001b[0;34m,\u001b[0m\u001b[0mx\u001b[0m\u001b[0;34m)\u001b[0m\u001b[0;34m\u001b[0m\u001b[0;34m\u001b[0m\u001b[0m\n\u001b[0m",
      "\u001b[0;31mValueError\u001b[0m: matmul: Input operand 1 has a mismatch in its core dimension 0, with gufunc signature (n?,k),(k,m?)->(n?,m?) (size 4 is different from 3)"
     ]
    }
   ],
   "source": [
    "np.matmul(_H_random_mask,x)"
   ]
  },
  {
   "cell_type": "code",
   "execution_count": 414,
   "metadata": {},
   "outputs": [
    {
     "name": "stdout",
     "output_type": "stream",
     "text": [
      "(5, 1)\n",
      "[[0.5141788 ]\n",
      " [0.22750468]\n",
      " [0.55561076]\n",
      " [0.41910028]\n",
      " [0.47125376]]\n"
     ]
    },
    {
     "ename": "ValueError",
     "evalue": "matmul: Input operand 1 has a mismatch in its core dimension 0, with gufunc signature (n?,k),(k,m?)->(n?,m?) (size 5 is different from 1)",
     "output_type": "error",
     "traceback": [
      "\u001b[0;31m---------------------------------------------------------------------------\u001b[0m",
      "\u001b[0;31mValueError\u001b[0m                                Traceback (most recent call last)",
      "\u001b[0;32m<ipython-input-414-668789cfcb93>\u001b[0m in \u001b[0;36m<module>\u001b[0;34m\u001b[0m\n\u001b[1;32m      4\u001b[0m \u001b[0mprint\u001b[0m\u001b[0;34m(\u001b[0m\u001b[0m_H_random_mask\u001b[0m\u001b[0;34m.\u001b[0m\u001b[0mT\u001b[0m\u001b[0;34m.\u001b[0m\u001b[0mshape\u001b[0m\u001b[0;34m)\u001b[0m\u001b[0;34m\u001b[0m\u001b[0;34m\u001b[0m\u001b[0m\n\u001b[1;32m      5\u001b[0m \u001b[0mprint\u001b[0m\u001b[0;34m(\u001b[0m\u001b[0mx\u001b[0m\u001b[0;34m)\u001b[0m\u001b[0;34m\u001b[0m\u001b[0;34m\u001b[0m\u001b[0m\n\u001b[0;32m----> 6\u001b[0;31m \u001b[0mprint\u001b[0m\u001b[0;34m(\u001b[0m\u001b[0mnp\u001b[0m\u001b[0;34m.\u001b[0m\u001b[0mmatmul\u001b[0m\u001b[0;34m(\u001b[0m\u001b[0m_H_random_mask\u001b[0m\u001b[0;34m.\u001b[0m\u001b[0mT\u001b[0m\u001b[0;34m,\u001b[0m\u001b[0mx\u001b[0m\u001b[0;34m)\u001b[0m\u001b[0;34m.\u001b[0m\u001b[0mshape\u001b[0m\u001b[0;34m)\u001b[0m\u001b[0;34m\u001b[0m\u001b[0;34m\u001b[0m\u001b[0m\n\u001b[0m\u001b[1;32m      7\u001b[0m \u001b[0mprint\u001b[0m\u001b[0;34m(\u001b[0m\u001b[0mnp\u001b[0m\u001b[0;34m.\u001b[0m\u001b[0mmatmul\u001b[0m\u001b[0;34m(\u001b[0m\u001b[0m_H_random_mask\u001b[0m\u001b[0;34m,\u001b[0m\u001b[0mx\u001b[0m\u001b[0;34m)\u001b[0m\u001b[0;34m)\u001b[0m\u001b[0;34m\u001b[0m\u001b[0;34m\u001b[0m\u001b[0m\n",
      "\u001b[0;31mValueError\u001b[0m: matmul: Input operand 1 has a mismatch in its core dimension 0, with gufunc signature (n?,k),(k,m?)->(n?,m?) (size 5 is different from 1)"
     ]
    }
   ],
   "source": [
    "# 1 dim case\n",
    "x = np.random.rand(5,1)\n",
    "\n",
    "print(_H_random_mask.T.shape)\n",
    "print(x)\n",
    "print(np.matmul(_H_random_mask.T,x).shape)\n",
    "print(np.matmul(_H_random_mask,x))"
   ]
  },
  {
   "cell_type": "code",
   "execution_count": 362,
   "metadata": {},
   "outputs": [
    {
     "name": "stdout",
     "output_type": "stream",
     "text": [
      "(2, 5, 5)\n",
      "[[0.35718838 0.93875931 0.40521904]\n",
      " [0.82704783 0.09037045 0.8081872 ]\n",
      " [0.7927779  0.90733299 0.42221935]\n",
      " [0.49521455 0.51078003 0.37933761]\n",
      " [0.00970704 0.87565342 0.14322204]]\n",
      "(2, 5, 3)\n",
      "[[[0.35718838 0.93875931 0.40521904]\n",
      "  [0.         0.         0.        ]\n",
      "  [0.         0.         0.        ]\n",
      "  [0.49521455 0.51078003 0.37933761]\n",
      "  [0.00970704 0.87565342 0.14322204]]\n",
      "\n",
      " [[0.35718838 0.93875931 0.40521904]\n",
      "  [0.         0.         0.        ]\n",
      "  [0.7927779  0.90733299 0.42221935]\n",
      "  [0.49521455 0.51078003 0.37933761]\n",
      "  [0.00970704 0.87565342 0.14322204]]]\n"
     ]
    }
   ],
   "source": [
    "# 2,3 dim case\n",
    "x = np.random.rand(5,3)\n",
    "\n",
    "print(_H_random_mask.shape)\n",
    "print(x)\n",
    "print(np.matmul(_H_random_mask,x).shape)\n",
    "print(np.matmul(_H_random_mask,x))"
   ]
  },
  {
   "cell_type": "code",
   "execution_count": 392,
   "metadata": {},
   "outputs": [
    {
     "name": "stdout",
     "output_type": "stream",
     "text": [
      "[[0 0 0 1 0]\n",
      " [1 1 1 1 0]\n",
      " [1 1 0 0 1]\n",
      " [0 0 0 1 0]\n",
      " [0 0 0 1 0]]\n"
     ]
    }
   ],
   "source": [
    "print(np.random.choice(np.array([0,1]), size=(5,5), p=[.5,1-.5]))\n"
   ]
  },
  {
   "cell_type": "code",
   "execution_count": 379,
   "metadata": {},
   "outputs": [
    {
     "name": "stdout",
     "output_type": "stream",
     "text": [
      "(3, 4, 4)\n"
     ]
    }
   ],
   "source": [
    "x = np.array([np.diag([0,1,0,1]),np.diag([0,1,0,1]),np.diag([0,1,0,1])])\n",
    "print(x.shape)"
   ]
  },
  {
   "cell_type": "code",
   "execution_count": 389,
   "metadata": {},
   "outputs": [
    {
     "name": "stdout",
     "output_type": "stream",
     "text": [
      "[[[0.81920174 0.3253478  0.52403706 0.63658965]\n",
      "  [0.93803443 0.82480523 0.91979668 0.63270916]\n",
      "  [0.1558862  0.83771545 0.3214954  0.10404415]\n",
      "  [0.24647432 0.57163563 0.95134018 0.9355127 ]]\n",
      "\n",
      " [[0.28629797 0.65510603 0.47567569 0.39278079]\n",
      "  [0.91493624 0.77852187 0.27791603 0.4458384 ]\n",
      "  [0.92907933 0.67961094 0.4082822  0.7256771 ]\n",
      "  [0.57483329 0.08918796 0.3587183  0.45388215]]\n",
      "\n",
      " [[0.01789251 0.49144219 0.25563789 0.63636949]\n",
      "  [0.33326099 0.1419965  0.88497724 0.22366334]\n",
      "  [0.26532449 0.11829723 0.05105047 0.50347354]\n",
      "  [0.79993308 0.42932696 0.85766658 0.43515814]]]\n"
     ]
    },
    {
     "ename": "ValueError",
     "evalue": "matmul: Input operand 1 has a mismatch in its core dimension 0, with gufunc signature (n?,k),(k,m?)->(n?,m?) (size 4 is different from 3)",
     "output_type": "error",
     "traceback": [
      "\u001b[0;31m---------------------------------------------------------------------------\u001b[0m",
      "\u001b[0;31mValueError\u001b[0m                                Traceback (most recent call last)",
      "\u001b[0;32m<ipython-input-389-d8667ec75957>\u001b[0m in \u001b[0;36m<module>\u001b[0;34m\u001b[0m\n\u001b[1;32m      1\u001b[0m \u001b[0mprint\u001b[0m\u001b[0;34m(\u001b[0m\u001b[0mnp\u001b[0m\u001b[0;34m.\u001b[0m\u001b[0mrandom\u001b[0m\u001b[0;34m.\u001b[0m\u001b[0mrand\u001b[0m\u001b[0;34m(\u001b[0m\u001b[0;36m3\u001b[0m\u001b[0;34m,\u001b[0m\u001b[0;36m4\u001b[0m\u001b[0;34m,\u001b[0m\u001b[0;36m4\u001b[0m\u001b[0;34m)\u001b[0m\u001b[0;34m)\u001b[0m\u001b[0;34m\u001b[0m\u001b[0;34m\u001b[0m\u001b[0m\n\u001b[0;32m----> 2\u001b[0;31m \u001b[0mprint\u001b[0m\u001b[0;34m(\u001b[0m\u001b[0mnp\u001b[0m\u001b[0;34m.\u001b[0m\u001b[0mmatmul\u001b[0m\u001b[0;34m(\u001b[0m\u001b[0mx\u001b[0m\u001b[0;34m.\u001b[0m\u001b[0mT\u001b[0m\u001b[0;34m,\u001b[0m\u001b[0mnp\u001b[0m\u001b[0;34m.\u001b[0m\u001b[0mrandom\u001b[0m\u001b[0;34m.\u001b[0m\u001b[0mrand\u001b[0m\u001b[0;34m(\u001b[0m\u001b[0;36m4\u001b[0m\u001b[0;34m,\u001b[0m\u001b[0;36m4\u001b[0m\u001b[0;34m)\u001b[0m\u001b[0;34m)\u001b[0m\u001b[0;34m)\u001b[0m\u001b[0;34m\u001b[0m\u001b[0;34m\u001b[0m\u001b[0m\n\u001b[0m",
      "\u001b[0;31mValueError\u001b[0m: matmul: Input operand 1 has a mismatch in its core dimension 0, with gufunc signature (n?,k),(k,m?)->(n?,m?) (size 4 is different from 3)"
     ]
    }
   ],
   "source": [
    "print(np.random.rand(3,4,4))\n",
    "print(np.matmul(x.T,np.random.rand(4,4)))"
   ]
  },
  {
   "cell_type": "code",
   "execution_count": 176,
   "metadata": {},
   "outputs": [
    {
     "name": "stdout",
     "output_type": "stream",
     "text": [
      "[[0 0 1 1 1]\n",
      " [1 1 1 1 0]\n",
      " [0 0 0 0 0]\n",
      " [1 0 1 0 1]\n",
      " [1 0 1 0 1]]\n"
     ]
    }
   ],
   "source": [
    "print(_H_random_mask)"
   ]
  },
  {
   "cell_type": "code",
   "execution_count": null,
   "metadata": {},
   "outputs": [],
   "source": [
    "def verify_q1(2):\n",
    "    nu_fft = im.kernel2fft(nu,x.shape[0],x.shape[1])\n",
    "    mu_fft = np.conjugate(nu_fft)\n",
    "    lhs,rhs = dot_product(im.convolvefft(x,nu_fft),y),dot_product(x,im.convolvefft(y,mu_fft))\n",
    "    np.isclose(lhs,rhs),lhs,rhs"
   ]
  },
  {
   "cell_type": "markdown",
   "metadata": {},
   "source": [
    "Work together as described here"
   ]
  },
  {
   "cell_type": "code",
   "execution_count": 1,
   "metadata": {
    "scrolled": true
   },
   "outputs": [
    {
     "ename": "SyntaxError",
     "evalue": "duplicate argument 'h' in function definition (<ipython-input-1-3c08a0a4a192>, line 4)",
     "output_type": "error",
     "traceback": [
      "\u001b[0;36m  File \u001b[0;32m\"<ipython-input-1-3c08a0a4a192>\"\u001b[0;36m, line \u001b[0;32m4\u001b[0m\n\u001b[0;31mSyntaxError\u001b[0m\u001b[0;31m:\u001b[0m duplicate argument 'h' in function definition\n"
     ]
    }
   ],
   "source": [
    "def dwt(x, J, h, h):\n",
    "    pass"
   ]
  },
  {
   "cell_type": "code",
   "execution_count": 2,
   "metadata": {},
   "outputs": [],
   "source": [
    "import numpy as np\n",
    "def softthresh(z, t):\n",
    "    new_z = (z - np.sign(z-t) * t) * np.maximum(np.abs(z)-t,0).astype(bool) # conversion to bool maps to (0,1)\n",
    "    return new_z"
   ]
  },
  {
   "cell_type": "code",
   "execution_count": 3,
   "metadata": {},
   "outputs": [
    {
     "name": "stdout",
     "output_type": "stream",
     "text": [
      "[[-2.50255565 -4.38294809]\n",
      " [-0.44161194 -2.93732861]\n",
      " [-1.10295096 -2.64660882]]\n",
      "[[2.49744435 0.61705191]\n",
      " [4.55838806 2.06267139]\n",
      " [3.89704904 2.35339118]]\n",
      "[[0. 0.]\n",
      " [0. 0.]\n",
      " [0. 0.]]\n",
      "[[4.44560314 2.30206049]\n",
      " [2.16346391 0.12140339]\n",
      " [1.33057788 4.41575301]]\n",
      "[[9.44560314 7.30206049]\n",
      " [7.16346391 5.12140339]\n",
      " [6.33057788 9.41575301]]\n",
      "[[0. 0.]\n",
      " [0. 0.]\n",
      " [0. 0.]]\n"
     ]
    }
   ],
   "source": [
    "# x is negative,threshold is negative\n",
    "x = -np.random.rand(3,2) * 5\n",
    "print(x)\n",
    "print(softthresh(x,-5))\n",
    "# x is negative,threshold is positive\n",
    "print(softthresh(x,5))\n",
    "\n",
    "# x is positive,threshold is negative\n",
    "x = np.random.rand(3,2) * 5\n",
    "print(x)\n",
    "print(softthresh(x,-5))\n",
    "# x is positive,threshold is positive\n",
    "print(softthresh(x,5))"
   ]
  },
  {
   "cell_type": "code",
   "execution_count": 46,
   "metadata": {},
   "outputs": [
    {
     "data": {
      "text/plain": [
       "array([[-1., -1., -1., -1., -1.],\n",
       "       [-1., -1., -1., -1., -1.],\n",
       "       [-1., -1., -1., -1., -1.],\n",
       "       [-1., -1., -1., -1., -1.],\n",
       "       [-1., -1., -1., -1., -1.]])"
      ]
     },
     "execution_count": 46,
     "metadata": {},
     "output_type": "execute_result"
    }
   ],
   "source": [
    "np.sign(np.ones((5,5)) - 4)"
   ]
  },
  {
   "cell_type": "code",
   "execution_count": null,
   "metadata": {},
   "outputs": [],
   "source": []
  }
 ],
 "metadata": {
  "kernelspec": {
   "display_name": "Python 3",
   "language": "python",
   "name": "python3"
  },
  "language_info": {
   "codemirror_mode": {
    "name": "ipython",
    "version": 3
   },
   "file_extension": ".py",
   "mimetype": "text/x-python",
   "name": "python",
   "nbconvert_exporter": "python",
   "pygments_lexer": "ipython3",
   "version": "3.7.3"
  }
 },
 "nbformat": 4,
 "nbformat_minor": 2
}
