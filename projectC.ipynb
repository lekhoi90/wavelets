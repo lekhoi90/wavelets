{
 "cells": [
  {
   "cell_type": "markdown",
   "metadata": {},
   "source": [
    "# Project C - Wavelets"
   ]
  },
  {
   "cell_type": "code",
   "execution_count": 1,
   "metadata": {},
   "outputs": [],
   "source": [
    "%load_ext autoreload\n",
    "%autoreload 2\n",
    "import numpy as np\n",
    "import numpy.fft as npf\n",
    "import matplotlib\n",
    "import matplotlib.pyplot as plt\n",
    "import time\n",
    "import imagetools.projectC as im\n",
    "\n",
    "%matplotlib notebook"
   ]
  },
  {
   "cell_type": "markdown",
   "metadata": {},
   "source": [
    "# Test"
   ]
  },
  {
   "cell_type": "code",
   "execution_count": 2,
   "metadata": {},
   "outputs": [],
   "source": [
    "lady = 'assets/lady.png'\n",
    "\n",
    "x = plt.imread(lady)\n",
    "nu = im.kernel('box',tau=5)\n",
    "y = im.convolve(x,nu,boundary='periodical')"
   ]
  },
  {
   "cell_type": "markdown",
   "metadata": {},
   "source": [
    "# Section 2"
   ]
  },
  {
   "cell_type": "markdown",
   "metadata": {},
   "source": [
    "Work together as described here"
   ]
  },
  {
   "cell_type": "code",
   "execution_count": 1,
   "metadata": {
    "scrolled": true
   },
   "outputs": [
    {
     "ename": "SyntaxError",
     "evalue": "duplicate argument 'h' in function definition (<ipython-input-1-3c08a0a4a192>, line 4)",
     "output_type": "error",
     "traceback": [
      "\u001b[0;36m  File \u001b[0;32m\"<ipython-input-1-3c08a0a4a192>\"\u001b[0;36m, line \u001b[0;32m4\u001b[0m\n\u001b[0;31mSyntaxError\u001b[0m\u001b[0;31m:\u001b[0m duplicate argument 'h' in function definition\n"
     ]
    }
   ],
   "source": [
    "def dwt(x, J, h, h):\n",
    "    pass"
   ]
  },
  {
   "cell_type": "code",
   "execution_count": 2,
   "metadata": {},
   "outputs": [],
   "source": [
    "import numpy as np\n",
    "def softthresh(z, t):\n",
    "    new_z = (z - np.sign(z-t) * t) * np.maximum(np.abs(z)-t,0).astype(bool) # conversion to bool maps to (0,1)\n",
    "    return new_z"
   ]
  },
  {
   "cell_type": "code",
   "execution_count": 3,
   "metadata": {},
   "outputs": [
    {
     "name": "stdout",
     "output_type": "stream",
     "text": [
      "[[-2.50255565 -4.38294809]\n",
      " [-0.44161194 -2.93732861]\n",
      " [-1.10295096 -2.64660882]]\n",
      "[[2.49744435 0.61705191]\n",
      " [4.55838806 2.06267139]\n",
      " [3.89704904 2.35339118]]\n",
      "[[0. 0.]\n",
      " [0. 0.]\n",
      " [0. 0.]]\n",
      "[[4.44560314 2.30206049]\n",
      " [2.16346391 0.12140339]\n",
      " [1.33057788 4.41575301]]\n",
      "[[9.44560314 7.30206049]\n",
      " [7.16346391 5.12140339]\n",
      " [6.33057788 9.41575301]]\n",
      "[[0. 0.]\n",
      " [0. 0.]\n",
      " [0. 0.]]\n"
     ]
    }
   ],
   "source": [
    "# x is negative,threshold is negative\n",
    "x = -np.random.rand(3,2) * 5\n",
    "print(x)\n",
    "print(softthresh(x,-5))\n",
    "# x is negative,threshold is positive\n",
    "print(softthresh(x,5))\n",
    "\n",
    "# x is positive,threshold is negative\n",
    "x = np.random.rand(3,2) * 5\n",
    "print(x)\n",
    "print(softthresh(x,-5))\n",
    "# x is positive,threshold is positive\n",
    "print(softthresh(x,5))"
   ]
  },
  {
   "cell_type": "code",
   "execution_count": 46,
   "metadata": {},
   "outputs": [
    {
     "data": {
      "text/plain": [
       "array([[-1., -1., -1., -1., -1.],\n",
       "       [-1., -1., -1., -1., -1.],\n",
       "       [-1., -1., -1., -1., -1.],\n",
       "       [-1., -1., -1., -1., -1.],\n",
       "       [-1., -1., -1., -1., -1.]])"
      ]
     },
     "execution_count": 46,
     "metadata": {},
     "output_type": "execute_result"
    }
   ],
   "source": [
    "np.sign(np.ones((5,5)) - 4)"
   ]
  },
  {
   "cell_type": "code",
   "execution_count": null,
   "metadata": {},
   "outputs": [],
   "source": []
  }
 ],
 "metadata": {
  "kernelspec": {
   "display_name": "Python (GAN_EXAMPLE)",
   "language": "python",
   "name": "gan_example"
  },
  "language_info": {
   "codemirror_mode": {
    "name": "ipython",
    "version": 3
   },
   "file_extension": ".py",
   "mimetype": "text/x-python",
   "name": "python",
   "nbconvert_exporter": "python",
   "pygments_lexer": "ipython3",
   "version": "3.6.7"
  }
 },
 "nbformat": 4,
 "nbformat_minor": 2
}
